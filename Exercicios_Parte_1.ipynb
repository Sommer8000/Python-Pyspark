{
  "nbformat": 4,
  "nbformat_minor": 0,
  "metadata": {
    "colab": {
      "provenance": [],
      "authorship_tag": "ABX9TyO8BzBAvigF5s2I9VB2TrMV",
      "include_colab_link": true
    },
    "kernelspec": {
      "name": "python3",
      "display_name": "Python 3"
    },
    "language_info": {
      "name": "python"
    }
  },
  "cells": [
    {
      "cell_type": "markdown",
      "metadata": {
        "id": "view-in-github",
        "colab_type": "text"
      },
      "source": [
        "<a href=\"https://colab.research.google.com/github/Sommer8000/Python-Pyspark/blob/main/Exercicios_Parte_1.ipynb\" target=\"_parent\"><img src=\"https://colab.research.google.com/assets/colab-badge.svg\" alt=\"Open In Colab\"/></a>"
      ]
    },
    {
      "cell_type": "markdown",
      "source": [
        "##Questão 1"
      ],
      "metadata": {
        "id": "hVXJHjg5hCov"
      }
    },
    {
      "cell_type": "code",
      "execution_count": null,
      "metadata": {
        "colab": {
          "base_uri": "https://localhost:8080/"
        },
        "id": "8cLxbpiZJHqC",
        "outputId": "a8dc1216-535d-4152-e474-484f68cd0b7c"
      },
      "outputs": [
        {
          "output_type": "stream",
          "name": "stdout",
          "text": [
            "Digite um valor n 6\n",
            "O valor inserido é par\n"
          ]
        }
      ],
      "source": [
        "valor=input('Digite um valor n ')\n",
        "valor=int(valor)\n",
        "  \n",
        "if valor %2 == 0 :\n",
        "    print('O valor inserido é par')\n",
        "if valor %2!=0:\n",
        "    (print('O valor inserido é impar'))\n"
      ]
    },
    {
      "cell_type": "markdown",
      "source": [
        "##Questão 2"
      ],
      "metadata": {
        "id": "ivE7kPHshHed"
      }
    },
    {
      "cell_type": "code",
      "source": [
        "for x in range(20):\n",
        "  if x%2 == 0:\n",
        "    print(x)"
      ],
      "metadata": {
        "colab": {
          "base_uri": "https://localhost:8080/"
        },
        "id": "GnKG4pXaJIUn",
        "outputId": "8b507e0c-88eb-4ae1-9165-554240064ce8"
      },
      "execution_count": null,
      "outputs": [
        {
          "output_type": "stream",
          "name": "stdout",
          "text": [
            "0\n",
            "2\n",
            "4\n",
            "6\n",
            "8\n",
            "10\n",
            "12\n",
            "14\n",
            "16\n",
            "18\n"
          ]
        }
      ]
    },
    {
      "cell_type": "markdown",
      "source": [
        "##Questão 3"
      ],
      "metadata": {
        "id": "Pai5dY_xhI0A"
      }
    },
    {
      "cell_type": "code",
      "source": [
        "Idade=input('Qual sua idade? ')\n",
        "Idade=int(Idade)\n",
        "Fidade=Idade+100\n",
        "\n",
        "print(f'Sua idade daqui a 100 anos será {Fidade} anos')"
      ],
      "metadata": {
        "colab": {
          "base_uri": "https://localhost:8080/"
        },
        "id": "IfQgQf7Rlb3n",
        "outputId": "3e8e2cd4-8d25-476a-e405-a9333e480454"
      },
      "execution_count": null,
      "outputs": [
        {
          "output_type": "stream",
          "name": "stdout",
          "text": [
            "Qual sua idade? 50\n",
            "Sua idade daqui a 100 anos será 150 anos\n"
          ]
        }
      ]
    },
    {
      "cell_type": "markdown",
      "source": [
        "##Questão 4"
      ],
      "metadata": {
        "id": "p6ePYNRYhJvA"
      }
    },
    {
      "cell_type": "code",
      "source": [
        "Range = 25\n",
        "Valor = 1\n",
        "Primo = 0\n",
        "\n",
        "for y in range(2, Range-1):\n",
        "  Primo = 0\n",
        "  Valor=Valor+1\n",
        "  for x in range (2, Valor-1):\n",
        "    if Valor%x == 0:\n",
        "      Primo = 1\n",
        "  if Primo == 0:\n",
        "    print(Valor)"
      ],
      "metadata": {
        "colab": {
          "base_uri": "https://localhost:8080/"
        },
        "id": "vh1McMJFmIWs",
        "outputId": "118ae12c-0259-449e-caf8-75aa6f8e113d"
      },
      "execution_count": null,
      "outputs": [
        {
          "output_type": "stream",
          "name": "stdout",
          "text": [
            "2\n",
            "3\n",
            "5\n",
            "7\n",
            "11\n",
            "13\n",
            "17\n",
            "19\n",
            "23\n"
          ]
        }
      ]
    },
    {
      "cell_type": "markdown",
      "source": [
        "##Questão 5"
      ],
      "metadata": {
        "id": "AMiXNnachLXI"
      }
    },
    {
      "cell_type": "code",
      "source": [
        "dia=input('Insira o dia: ')\n",
        "mes=input('Insira o mes: ')\n",
        "ano=input('Insira o ano: ')\n",
        "dia=dia.zfill(2)\n",
        "mes=mes.zfill(2)\n",
        "print(f\"A data é {dia}/{mes}/{ano}\")"
      ],
      "metadata": {
        "colab": {
          "base_uri": "https://localhost:8080/"
        },
        "id": "A4dfvB9_mIf0",
        "outputId": "8f929fd7-d9b8-41db-8bc7-e6be3432fdd5"
      },
      "execution_count": null,
      "outputs": [
        {
          "output_type": "stream",
          "name": "stdout",
          "text": [
            "Insira o dia: 15\n",
            "Insira o mes: 2\n",
            "Insira o ano: 1998\n",
            "A data é 15/02/1998\n"
          ]
        }
      ]
    }
  ]
}